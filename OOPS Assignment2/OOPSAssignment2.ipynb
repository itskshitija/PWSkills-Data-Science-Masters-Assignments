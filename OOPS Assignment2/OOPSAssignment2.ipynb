{
 "cells": [
  {
   "cell_type": "markdown",
   "metadata": {},
   "source": [
    "### **OOPS Assignment 2**"
   ]
  },
  {
   "cell_type": "markdown",
   "metadata": {},
   "source": [
    "### **Q1. What is Abstraction in OOps? Explain with an example.**\n",
    "\n",
    "Abstraction is one of the fundamental principles of Object-Oriented Programming (OOP). It involves hiding the implementation details of a class and exposing only the essential features to the user. By using abstraction, we focus on what an object does instead of how it does it.\n",
    "\n",
    "This helps in reducing complexity, improving code readability, and enhancing reusability and security.\n",
    "\n",
    "#### **Key Features of Abstraction**\n",
    "- Hides implementation details: Only the necessary details are exposed, while the internal workings are hidden.\n",
    "\n",
    "- Simplifies code usage: The user interacts with the high-level interface without worrying about low-level complexities.\n",
    "\n",
    "- Implemented using: Abstract Classes (using abstract methods in Python with the abc module).\n",
    "Interfaces (in languages like Java)."
   ]
  },
  {
   "cell_type": "code",
   "execution_count": 1,
   "metadata": {},
   "outputs": [
    {
     "name": "stdout",
     "output_type": "stream",
     "text": [
      "Dog barks.\n",
      "This animal sleeps.\n",
      "Cat meows.\n",
      "This animal sleeps.\n"
     ]
    }
   ],
   "source": [
    "from abc import ABC, abstractmethod\n",
    "\n",
    "# Abstract class\n",
    "class Animal(ABC):\n",
    "    @abstractmethod\n",
    "    def sound(self):\n",
    "        \"\"\"Abstract method to be implemented by subclasses\"\"\"\n",
    "        pass\n",
    "\n",
    "    def sleep(self):\n",
    "        \"\"\"Concrete method\"\"\"\n",
    "        print(\"This animal sleeps.\")\n",
    "\n",
    "# Concrete class 1\n",
    "class Dog(Animal):\n",
    "    def sound(self):\n",
    "        print(\"Dog barks.\")\n",
    "\n",
    "# Concrete class 2\n",
    "class Cat(Animal):\n",
    "    def sound(self):\n",
    "        print(\"Cat meows.\")\n",
    "\n",
    "# Using the abstraction\n",
    "dog = Dog()\n",
    "dog.sound()\n",
    "dog.sleep() \n",
    "\n",
    "cat = Cat()\n",
    "cat.sound() \n",
    "cat.sleep()  \n"
   ]
  },
  {
   "cell_type": "markdown",
   "metadata": {},
   "source": [
    "### **Q2. Differentiate between Abstraction and Encapsulation. Explain with an example.**"
   ]
  },
  {
   "cell_type": "markdown",
   "metadata": {},
   "source": [
    "#### **1. Abstraction**\n",
    "\n",
    "**Definition:**\n",
    "Abstraction is the process of hiding the internal implementation details of a class and exposing only the essential features or functionalities to the user. It focuses on what an object does rather than how it does it.\n",
    "\n",
    "**Purpose:** \n",
    "The goal of abstraction is to reduce complexity and make the code easier to use and understand by providing a clear interface.\n",
    "Implementation: Abstraction is typically achieved using abstract classes or interfaces in object-oriented programming."
   ]
  },
  {
   "cell_type": "code",
   "execution_count": 3,
   "metadata": {},
   "outputs": [
    {
     "name": "stdout",
     "output_type": "stream",
     "text": [
      "Car engine started.\n"
     ]
    }
   ],
   "source": [
    "from abc import ABC, abstractmethod\n",
    "\n",
    "class Vehicle(ABC):\n",
    "    @abstractmethod\n",
    "    def start_engine(self):\n",
    "        pass\n",
    "\n",
    "class Car(Vehicle):\n",
    "    def start_engine(self):\n",
    "        print(\"Car engine started.\")\n",
    "\n",
    "class Bike(Vehicle): \n",
    "    def start_engine(self):\n",
    "        print(\"Bike engine started.\")\n",
    "        \n",
    "vehicle = Car()\n",
    "vehicle.start_engine()\n"
   ]
  },
  {
   "cell_type": "markdown",
   "metadata": {},
   "source": [
    "### **2. Encapsulation**\n",
    "\n",
    "**Definition:**\n",
    "Encapsulation is the process of wrapping data (variables) and methods (functions) into a single unit (class) and restricting access to certain components. It helps to protect the internal state of an object from unintended interference and ensures controlled access through defined methods.\n",
    "\n",
    "**Purpose:** \n",
    "Encapsulation ensures data security and prevents unauthorized access or modification of sensitive data.\n",
    "Implementation: Encapsulation is implemented by using access modifiers such as private, protected, or public. In Python, private variables are denoted by a leading underscore (_ or __)."
   ]
  },
  {
   "cell_type": "code",
   "execution_count": 5,
   "metadata": {},
   "outputs": [
    {
     "name": "stdout",
     "output_type": "stream",
     "text": [
      "Deposited 200. New balance: 700\n",
      "Withdrew 100. Remaining balance: 600\n",
      "600\n"
     ]
    }
   ],
   "source": [
    "class BankAccount:\n",
    "    def __init__(self, account_number, balance):\n",
    "        self.__account_number = account_number\n",
    "        self.__balance = balance\n",
    "\n",
    "    def deposit(self, amount):\n",
    "        if amount > 0:\n",
    "            self.__balance += amount\n",
    "            print(f\"Deposited {amount}. New balance: {self.__balance}\")\n",
    "        else:\n",
    "            print(\"Deposit amount must be positive.\")\n",
    "\n",
    "    def withdraw(self, amount):\n",
    "        if 0 < amount <= self.__balance:\n",
    "            self.__balance -= amount\n",
    "            print(f\"Withdrew {amount}. Remaining balance: {self.__balance}\")\n",
    "        else:\n",
    "            print(\"Invalid withdrawal amount.\")\n",
    "\n",
    "    def get_balance(self):\n",
    "        return self.__balance\n",
    "    \n",
    "account = BankAccount(12345, 500)\n",
    "account.deposit(200) \n",
    "account.withdraw(100)\n",
    "print(account.get_balance())\n"
   ]
  },
  {
   "cell_type": "markdown",
   "metadata": {},
   "source": [
    "### **Q3. What is abc module in python? Why is it used?**\n",
    "\n",
    "The abc module in Python stands for Abstract Base Classes. It provides the infrastructure for defining abstract classes and abstract methods. An abstract class cannot be instantiated directly and serves as a blueprint for other classes. Abstract methods are methods declared in an abstract class that must be implemented by subclasses."
   ]
  },
  {
   "cell_type": "markdown",
   "metadata": {},
   "source": [
    "### **Q4. How can we achieve data abstraction?**\n",
    "\n",
    "Data abstraction in Python is achieved through classes and objects, specifically by using abstract classes and interfaces. Abstract classes allow you to define the essential features (methods and properties) of a class without implementing the details.\n",
    "\n",
    "This concept hides the implementation details from the user and shows only the necessary functionality, focusing on what the object does rather than how it does it.\n",
    "\n",
    "#### **Ways to Achieve Data Abstraction**\n",
    "1. Using Abstract Classes and Abstract Methods (via the abc Module)\n",
    "An abstract class serves as a blueprint for its subclasses. It can have both concrete methods (implemented) and abstract methods (declared but not implemented).\n",
    "\n",
    "Abstract methods must be implemented in any concrete subclass.\n",
    "\n",
    "Abstract classes cannot be instantiated directly."
   ]
  },
  {
   "cell_type": "code",
   "execution_count": 6,
   "metadata": {},
   "outputs": [
    {
     "name": "stdout",
     "output_type": "stream",
     "text": [
      "Barks\n",
      "Sleeping...\n",
      "Meows\n",
      "Sleeping...\n"
     ]
    }
   ],
   "source": [
    "from abc import ABC, abstractmethod\n",
    "\n",
    "# Abstract class\n",
    "class Animal(ABC):\n",
    "    @abstractmethod\n",
    "    def sound(self):\n",
    "        pass \n",
    "\n",
    "    def sleep(self):\n",
    "        print(\"Sleeping...\") \n",
    "\n",
    "# Subclass 1\n",
    "class Dog(Animal):\n",
    "    def sound(self):\n",
    "        print(\"Barks\")\n",
    "\n",
    "# Subclass 2\n",
    "class Cat(Animal):\n",
    "    def sound(self):\n",
    "        print(\"Meows\")\n",
    "\n",
    "# Instantiate subclasses\n",
    "dog = Dog()\n",
    "dog.sound() \n",
    "dog.sleep() \n",
    "\n",
    "cat = Cat()\n",
    "cat.sound() \n",
    "cat.sleep() "
   ]
  },
  {
   "cell_type": "markdown",
   "metadata": {},
   "source": [
    "### **Q5. Can we create an instance of an abstract class? Explain your answer.**\n",
    "\n",
    "No, we cannot create an instance of an abstract class in Python. Abstract classes are designed to act as blueprints for other classes and are incomplete by nature because they contain one or more abstract methods that are not implemented."
   ]
  }
 ],
 "metadata": {
  "kernelspec": {
   "display_name": "base",
   "language": "python",
   "name": "python3"
  },
  "language_info": {
   "codemirror_mode": {
    "name": "ipython",
    "version": 3
   },
   "file_extension": ".py",
   "mimetype": "text/x-python",
   "name": "python",
   "nbconvert_exporter": "python",
   "pygments_lexer": "ipython3",
   "version": "3.12.7"
  }
 },
 "nbformat": 4,
 "nbformat_minor": 2
}
