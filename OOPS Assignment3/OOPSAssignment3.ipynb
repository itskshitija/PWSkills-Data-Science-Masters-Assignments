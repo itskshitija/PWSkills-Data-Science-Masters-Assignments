{
 "cells": [
  {
   "cell_type": "markdown",
   "metadata": {},
   "source": [
    "## **OOPS Assignment 3**"
   ]
  },
  {
   "cell_type": "markdown",
   "metadata": {},
   "source": [
    "### **Q1. Create a vehicle class with an init method having instance variables as name_of_vehicle, max_speed and average_of_vehicle.**"
   ]
  },
  {
   "cell_type": "code",
   "execution_count": 2,
   "metadata": {},
   "outputs": [
    {
     "name": "stdout",
     "output_type": "stream",
     "text": [
      "Vehicle Name: Toyota Corolla, Max Speed: 180 km/h, Average: 16 km/l\n"
     ]
    }
   ],
   "source": [
    "class Vehicle:\n",
    "    def __init__(self, name_of_vehicle, max_speed, average_of_vehicle):\n",
    "        self.name_of_vehicle = name_of_vehicle\n",
    "        self.max_speed = max_speed  \n",
    "        self.average_of_vehicle = average_of_vehicle\n",
    "\n",
    "    def display_details(self):\n",
    "        return f\"Vehicle Name: {self.name_of_vehicle}, Max Speed: {self.max_speed} km/h, Average: {self.average_of_vehicle} km/l\"\n",
    "\n",
    "# Example usage\n",
    "car = Vehicle(\"Toyota Corolla\", 180, 16)\n",
    "print(car.display_details()) \n"
   ]
  },
  {
   "cell_type": "markdown",
   "metadata": {},
   "source": [
    "### **Q2. Create a child class car from the vehicle class created in Que 1, which will inherit the vehicle class. Create a method named seating_capacity which takes capacity as an argument and returns the name of the vehicle and its seating capacity.**"
   ]
  },
  {
   "cell_type": "code",
   "execution_count": 3,
   "metadata": {},
   "outputs": [
    {
     "name": "stdout",
     "output_type": "stream",
     "text": [
      "Vehicle Name: Honda Civic, Max Speed: 200 km/h, Average: 14 km/l\n",
      "Honda Civic has a seating capacity of 5 passengers.\n"
     ]
    }
   ],
   "source": [
    "class Vehicle:\n",
    "    def __init__(self, name_of_vehicle, max_speed, average_of_vehicle):\n",
    "        self.name_of_vehicle = name_of_vehicle\n",
    "        self.max_speed = max_speed\n",
    "        self.average_of_vehicle = average_of_vehicle\n",
    "\n",
    "    def display_details(self):\n",
    "        return f\"Vehicle Name: {self.name_of_vehicle}, Max Speed: {self.max_speed} km/h, Average: {self.average_of_vehicle} km/l\"\n",
    "    \n",
    "class Car(Vehicle):\n",
    "    def seating_capacity(self, capacity):\n",
    "        return f\"{self.name_of_vehicle} has a seating capacity of {capacity} passengers.\"\n",
    "\n",
    "# Example usage\n",
    "car = Car(\"Honda Civic\", 200, 14)\n",
    "print(car.display_details())\n",
    "print(car.seating_capacity(5))"
   ]
  },
  {
   "cell_type": "markdown",
   "metadata": {},
   "source": [
    "### **Q3. What is multiple inheritance? Write a python code to demonstrate multiple inheritance.**\n",
    "\n",
    "Multiple inheritance is a feature in object-oriented programming where a class can inherit from more than one base class. This allows the derived class to inherit attributes and methods from all of its parent classes, enabling the combination of functionality from multiple sources.\n",
    "\n",
    "In Python, multiple inheritance is supported, and a class can inherit from multiple classes by specifying them as comma-separated arguments in the class definition.\n",
    "\n",
    "**Advantages of Multiple Inheritance:**\n",
    "- Code Reusability: You can reuse code from multiple classes.\n",
    "\n",
    "- Flexibility: Allows a class to inherit and combine the behavior of more than one class.\n",
    "\n",
    "- Modular Design: Can be used to combine different functionalities from different classes into a single class."
   ]
  },
  {
   "cell_type": "code",
   "execution_count": 4,
   "metadata": {},
   "outputs": [
    {
     "name": "stdout",
     "output_type": "stream",
     "text": [
      "Car is moving\n",
      "Engine started\n",
      "Wheels are rotating\n"
     ]
    }
   ],
   "source": [
    "# Parent class 1\n",
    "class Engine:\n",
    "    def start_engine(self):\n",
    "        print(\"Engine started\")\n",
    "\n",
    "# Parent class 2\n",
    "class Wheels:\n",
    "    def rotate(self):\n",
    "        print(\"Wheels are rotating\")\n",
    "        \n",
    "class Car(Engine, Wheels):\n",
    "    def move(self):\n",
    "        print(\"Car is moving\")\n",
    "        self.start_engine()  \n",
    "        self.rotate()     \n",
    "\n",
    "# Example usage\n",
    "car = Car()\n",
    "car.move() \n"
   ]
  },
  {
   "cell_type": "markdown",
   "metadata": {},
   "source": [
    "### **Q4. What are getter and setter in python? Create a class and create a getter and a setter method in this class.**"
   ]
  },
  {
   "cell_type": "markdown",
   "metadata": {},
   "source": [
    "In Python, getter and setter methods are used to access and modify the values of private instance variables of a class. These methods provide a controlled way to access and update the attributes of an object.\n",
    "\n",
    "**Getter Method:** A method used to retrieve the value of a private attribute.\n",
    "\n",
    "**Setter Method:** A method used to set or update the value of a private attribute.\n",
    "\n",
    "In Python, getter and setter methods are commonly used to maintain data encapsulation and ensure that an object's state remains valid."
   ]
  },
  {
   "cell_type": "code",
   "execution_count": 7,
   "metadata": {},
   "outputs": [
    {
     "name": "stdout",
     "output_type": "stream",
     "text": [
      "John\n",
      "30\n",
      "Alex\n",
      "35\n",
      "Age cannot be negative!\n"
     ]
    }
   ],
   "source": [
    "class Person:\n",
    "    def __init__(self, name, age):\n",
    "        self.__name = name  # Private variable\n",
    "        self.__age = age    # Private variable\n",
    "\n",
    "    # Getter method for name\n",
    "    def get_name(self):\n",
    "        return self.__name\n",
    "\n",
    "    # Setter method for name\n",
    "    def set_name(self, name):\n",
    "        self.__name = name\n",
    "\n",
    "    # Getter method for age\n",
    "    def get_age(self):\n",
    "        return self.__age\n",
    "\n",
    "    # Setter method for age\n",
    "    def set_age(self, age):\n",
    "        if age >= 0: \n",
    "            self.__age = age\n",
    "        else:\n",
    "            print(\"Age cannot be negative!\")\n",
    "\n",
    "# Example usage\n",
    "person = Person(\"John\", 30)\n",
    "\n",
    "# Using getter methods to access private variables\n",
    "print(person.get_name())\n",
    "print(person.get_age())\n",
    "\n",
    "# Using setter methods to modify private variables\n",
    "person.set_name(\"Alex\")\n",
    "person.set_age(35)\n",
    "\n",
    "print(person.get_name())\n",
    "print(person.get_age())  \n",
    "\n",
    "# Trying to set invalid age\n",
    "person.set_age(-5)        \n"
   ]
  },
  {
   "cell_type": "markdown",
   "metadata": {},
   "source": [
    "### **Q5.What is method overriding in python? Write a python code to demonstrate method overriding.**\n",
    "\n",
    "Method overriding in Python is a feature that allows a subclass to provide its own implementation of a method that is already defined in its superclass. When a subclass provides a specific implementation of a method, it \"overrides\" the method of the parent class. This allows the subclass to change or extend the behavior of the inherited method.\n",
    "\n",
    "- The method in the subclass must have the same name, parameters, and signature as the method in the superclass to override it.\n",
    "\n",
    "- It is commonly used in object-oriented programming when the behavior of a method in a base class needs to be customized in a derived class."
   ]
  },
  {
   "cell_type": "code",
   "execution_count": 9,
   "metadata": {},
   "outputs": [
    {
     "name": "stdout",
     "output_type": "stream",
     "text": [
      "Animal speaks\n",
      "Dog barks\n",
      "Cat meows\n"
     ]
    }
   ],
   "source": [
    "# Parent class\n",
    "class Animal:\n",
    "    def speak(self):\n",
    "        print(\"Animal speaks\")\n",
    "\n",
    "class Dog(Animal):\n",
    "    def speak(self): \n",
    "        print(\"Dog barks\")\n",
    "\n",
    "class Cat(Animal):\n",
    "    def speak(self):\n",
    "        print(\"Cat meows\")\n",
    "\n",
    "# Example usage\n",
    "animal = Animal()\n",
    "dog = Dog()\n",
    "cat = Cat()\n",
    "\n",
    "animal.speak() \n",
    "dog.speak()     \n",
    "cat.speak()    "
   ]
  },
  {
   "cell_type": "code",
   "execution_count": null,
   "metadata": {},
   "outputs": [],
   "source": []
  }
 ],
 "metadata": {
  "kernelspec": {
   "display_name": "base",
   "language": "python",
   "name": "python3"
  },
  "language_info": {
   "codemirror_mode": {
    "name": "ipython",
    "version": 3
   },
   "file_extension": ".py",
   "mimetype": "text/x-python",
   "name": "python",
   "nbconvert_exporter": "python",
   "pygments_lexer": "ipython3",
   "version": "3.12.7"
  }
 },
 "nbformat": 4,
 "nbformat_minor": 2
}
