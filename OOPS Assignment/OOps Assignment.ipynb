{
 "cells": [
  {
   "cell_type": "markdown",
   "metadata": {},
   "source": [
    "# **OOPS Assignment**"
   ]
  },
  {
   "cell_type": "markdown",
   "metadata": {},
   "source": [
    "### **Q1. Explain Class and Object with respect to Object-Oriented Programming. Give a suitable example.**"
   ]
  },
  {
   "cell_type": "markdown",
   "metadata": {},
   "source": [
    "#### **Class:** A class is a blueprint or template for creating objects.\n",
    "\n",
    "#### **Objects:** An individual object created using the class blueprint."
   ]
  },
  {
   "cell_type": "code",
   "execution_count": 2,
   "metadata": {},
   "outputs": [
    {
     "name": "stdout",
     "output_type": "stream",
     "text": [
      "Car Brand: Toyota\n",
      "Car Model: Camry\n",
      "Manufacturing Year: 2020\n",
      "---\n",
      "Car Brand: Honda\n",
      "Car Model: Civic\n",
      "Manufacturing Year: 2022\n"
     ]
    }
   ],
   "source": [
    "# Let's take an example of a Car class and create an object from that class.\n",
    "\n",
    "class Car:\n",
    "    def __init__(self, brand, model, year):\n",
    "        self.brand = brand\n",
    "        self.model = model\n",
    "        self.year = year\n",
    "    \n",
    "    # Method to display car information\n",
    "    def display_info(self):\n",
    "        print(f\"Car Brand: {self.brand}\")\n",
    "        print(f\"Car Model: {self.model}\")\n",
    "        print(f\"Manufacturing Year: {self.year}\")\n",
    "\n",
    "# Creating objects of the Car class\n",
    "car1 = Car(\"Toyota\", \"Camry\", 2020)\n",
    "car2 = Car(\"Honda\", \"Civic\", 2022)\n",
    "\n",
    "car1.display_info()\n",
    "print(\"---\")\n",
    "car2.display_info()"
   ]
  },
  {
   "cell_type": "markdown",
   "metadata": {},
   "source": [
    "### **Q2. Name the four pillars of OOPs.**"
   ]
  },
  {
   "cell_type": "markdown",
   "metadata": {},
   "source": [
    "**Encapsulation:** The practice of bundling data (attributes) and methods (functions) that operate on the data into a single unit (class). It also hides the internal state of an object and only exposes a controlled interface to interact with it.\n",
    "\n",
    "**Abstraction:** Hiding the complex details and showing only the necessary features of an object or system. It allows focusing on high-level operations while the implementation details are hidden.\n",
    "\n",
    "**Inheritance:** A mechanism where a new class (child class) inherits attributes and methods from an existing class (parent class). This promotes code reuse and establishes a relationship between the parent and child classes.\n",
    "\n",
    "**Polymorphism:** The ability to call the same method on different objects, with each object responding in its own way. It allows different classes to define methods with the same name but potentially different behaviors."
   ]
  },
  {
   "cell_type": "markdown",
   "metadata": {},
   "source": [
    "### **Q3. Explain why the __init__() function is used. Give a suitable example.**"
   ]
  },
  {
   "cell_type": "markdown",
   "metadata": {},
   "source": [
    "The __init__() function in Python is a special method used to initialize newly created objects. It is called automatically when a new object of a class is instantiated. The __init__() method allows you to assign initial values to the attributes of the object at the time of creation.\n",
    "\n",
    "Purpose:\n",
    "- To initialize object attributes when an object is created.\n",
    "- To set up the initial state of the object."
   ]
  },
  {
   "cell_type": "code",
   "execution_count": 3,
   "metadata": {},
   "outputs": [
    {
     "name": "stdout",
     "output_type": "stream",
     "text": [
      "Alice\n",
      "30\n"
     ]
    }
   ],
   "source": [
    "class Person:\n",
    "    def __init__(self, name, age):  # __init__ method initializes attributes\n",
    "        self.name = name  # Assigning value to the 'name' attribute\n",
    "        self.age = age  # Assigning value to the 'age' attribute\n",
    "\n",
    "# Creating an object of the class Person\n",
    "person1 = Person(\"Alice\", 30)\n",
    "\n",
    "# Accessing the initialized attributes\n",
    "print(person1.name) \n",
    "print(person1.age)\n"
   ]
  },
  {
   "cell_type": "markdown",
   "metadata": {},
   "source": [
    "### **Q4. Why self is used in OOPs?**"
   ]
  },
  {
   "cell_type": "markdown",
   "metadata": {},
   "source": [
    "Self is a reference variable within a Python class which points to the current object. "
   ]
  },
  {
   "cell_type": "markdown",
   "metadata": {},
   "source": [
    "### **Q5. What is inheritance? Give an example for each type of inheritance.**"
   ]
  },
  {
   "cell_type": "markdown",
   "metadata": {},
   "source": [
    "Inheritance is a key feature of Object-Oriented Programming (OOP) where one class (called a child class or subclass) inherits the attributes and methods of another class (called a parent class or superclass). It promotes code reuse and establishes a relationship between the parent and child classes.\n",
    "\n",
    "Types of Inheritance:\n",
    "1. Single Inheritance: One parent, one child.\n",
    "2. Multiple Inheritance: Multiple parents, one child.\n",
    "3. Multilevel Inheritance: A chain of inheritance.\n",
    "4. Hierarchical Inheritance: Multiple children from one parent.\n",
    "5. Hybrid Inheritance: A mix of different types of inheritance."
   ]
  },
  {
   "cell_type": "code",
   "execution_count": 8,
   "metadata": {},
   "outputs": [
    {
     "name": "stdout",
     "output_type": "stream",
     "text": [
      "Animal speaks\n",
      "Dog barks\n"
     ]
    }
   ],
   "source": [
    "# Single Inheritance : One Parent, One Child\n",
    "\n",
    "class Animal:\n",
    "    def speak(self):\n",
    "        print(\"Animal speaks\")\n",
    "\n",
    "class Dog(Animal):  # Dog inherits from Animal\n",
    "    def bark(self):\n",
    "        print(\"Dog barks\")\n",
    "\n",
    "dog = Dog()\n",
    "dog.speak()\n",
    "dog.bark()  "
   ]
  },
  {
   "cell_type": "code",
   "execution_count": 9,
   "metadata": {},
   "outputs": [
    {
     "name": "stdout",
     "output_type": "stream",
     "text": [
      "Father's trait\n",
      "Mother's trait\n",
      "Child's trait\n"
     ]
    }
   ],
   "source": [
    "# Multiple Inheritance : Multiple Parents, One child\n",
    "\n",
    "# Parent classes\n",
    "class Father:\n",
    "    def father_trait(self):\n",
    "        print(\"Father's trait\")\n",
    "\n",
    "class Mother:\n",
    "    def mother_trait(self):\n",
    "        print(\"Mother's trait\")\n",
    "\n",
    "# Child class inheriting from both Father and Mother classes\n",
    "class Child(Father, Mother):\n",
    "    def child_trait(self):\n",
    "        print(\"Child's trait\")\n",
    "\n",
    "# Creating an object of Child class\n",
    "c = Child()\n",
    "c.father_trait()  # Inherited from Father class\n",
    "c.mother_trait()  # Inherited from Mother class\n",
    "c.child_trait()   # Method of Child class\n"
   ]
  },
  {
   "cell_type": "code",
   "execution_count": 10,
   "metadata": {},
   "outputs": [
    {
     "name": "stdout",
     "output_type": "stream",
     "text": [
      "Animal speaks\n",
      "Dog barks\n",
      "Puppy plays\n"
     ]
    }
   ],
   "source": [
    "# Multilevel Inheritance : A chain of Inheriance\n",
    "\n",
    "# Parent class\n",
    "class Animal:\n",
    "    def speak(self):\n",
    "        print(\"Animal speaks\")\n",
    "\n",
    "# Child class inheriting from Animal\n",
    "class Dog(Animal):\n",
    "    def bark(self):\n",
    "        print(\"Dog barks\")\n",
    "\n",
    "# Grandchild class inheriting from Dog (which inherits from Animal)\n",
    "class Puppy(Dog):\n",
    "    def play(self):\n",
    "        print(\"Puppy plays\")\n",
    "\n",
    "# Creating an object of Puppy class\n",
    "p = Puppy()\n",
    "p.speak()  # Inherited from Animal class\n",
    "p.bark()   # Inherited from Dog class\n",
    "p.play()   # Method of Puppy class"
   ]
  },
  {
   "cell_type": "code",
   "execution_count": 11,
   "metadata": {},
   "outputs": [
    {
     "name": "stdout",
     "output_type": "stream",
     "text": [
      "Animal speaks\n",
      "Dog barks\n",
      "Animal speaks\n",
      "Cat meows\n"
     ]
    }
   ],
   "source": [
    "# Hierarchical Inheritance : Multiple Children from one parent\n",
    "\n",
    "# Parent class\n",
    "class Animal:\n",
    "    def speak(self):\n",
    "        print(\"Animal speaks\")\n",
    "\n",
    "# Child classes inheriting from Animal\n",
    "class Dog(Animal):\n",
    "    def bark(self):\n",
    "        print(\"Dog barks\")\n",
    "\n",
    "class Cat(Animal):\n",
    "    def meow(self):\n",
    "        print(\"Cat meows\")\n",
    "\n",
    "# Creating objects of Dog and Cat classes\n",
    "d = Dog()\n",
    "d.speak()  # Inherited from Animal class\n",
    "d.bark()   # Method of Dog class\n",
    "\n",
    "c = Cat()\n",
    "c.speak()  # Inherited from Animal class\n",
    "c.meow()   # Method of Cat class\n"
   ]
  },
  {
   "cell_type": "code",
   "execution_count": 12,
   "metadata": {},
   "outputs": [
    {
     "name": "stdout",
     "output_type": "stream",
     "text": [
      "Father's trait\n",
      "Mother's trait\n",
      "Child's trait\n"
     ]
    }
   ],
   "source": [
    "# Hybrid Inheritance: Mix of different types of Inhertance\n",
    "\n",
    "# Parent classes\n",
    "class Father:\n",
    "    def father_trait(self):\n",
    "        print(\"Father's trait\")\n",
    "\n",
    "class Mother:\n",
    "    def mother_trait(self):\n",
    "        print(\"Mother's trait\")\n",
    "\n",
    "# Child class inheriting from both Father and Mother\n",
    "class Child(Father, Mother):\n",
    "    def child_trait(self):\n",
    "        print(\"Child's trait\")\n",
    "\n",
    "# Creating an object of Child class\n",
    "c = Child()\n",
    "c.father_trait()  # Inherited from Father class\n",
    "c.mother_trait()  # Inherited from Mother class\n",
    "c.child_trait()   # Method of Child class\n"
   ]
  },
  {
   "cell_type": "code",
   "execution_count": null,
   "metadata": {},
   "outputs": [],
   "source": []
  }
 ],
 "metadata": {
  "kernelspec": {
   "display_name": "base",
   "language": "python",
   "name": "python3"
  },
  "language_info": {
   "codemirror_mode": {
    "name": "ipython",
    "version": 3
   },
   "file_extension": ".py",
   "mimetype": "text/x-python",
   "name": "python",
   "nbconvert_exporter": "python",
   "pygments_lexer": "ipython3",
   "version": "3.12.7"
  }
 },
 "nbformat": 4,
 "nbformat_minor": 2
}
