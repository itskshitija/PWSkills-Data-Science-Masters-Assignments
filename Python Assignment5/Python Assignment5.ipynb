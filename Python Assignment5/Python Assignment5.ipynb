{
 "cells": [
  {
   "cell_type": "markdown",
   "metadata": {},
   "source": [
    "### **Q1: Write a program to accept percentage from the user and display the grade according to the following criteria**"
   ]
  },
  {
   "cell_type": "code",
   "execution_count": 6,
   "metadata": {},
   "outputs": [
    {
     "name": "stdout",
     "output_type": "stream",
     "text": [
      "Percentage Entered by the user is:  90\n",
      "Grade B\n"
     ]
    }
   ],
   "source": [
    "input_percentage = int(input(\"Enter Percentage: \"))\n",
    "print(\"Percentage Entered by the user is: \", input_percentage)\n",
    "\n",
    "if input_percentage < 60:\n",
    "    print(\"Grade D\")\n",
    "elif 60 <= input_percentage <= 80:\n",
    "    print(\"Grade C\")\n",
    "elif 80 < input_percentage <= 90:\n",
    "    print(\"Grade B\")\n",
    "else:\n",
    "    print(\"Grade A\")"
   ]
  },
  {
   "cell_type": "markdown",
   "metadata": {},
   "source": [
    "### **Q2:Write a program to accept the cost price of a bike and display the road tax to be paid according to the criteria provided**"
   ]
  },
  {
   "cell_type": "code",
   "execution_count": 9,
   "metadata": {},
   "outputs": [
    {
     "name": "stdout",
     "output_type": "stream",
     "text": [
      "Road Tax is: 15%\n"
     ]
    }
   ],
   "source": [
    "input_costprice = float(input(\"Enter the cost price of a bike: \"))\n",
    "\n",
    "if input_costprice > 100000:\n",
    "    print(\"Road Tax is: 15%\")\n",
    "elif 50000 < input_costprice <= 100000:\n",
    "    print(\"Road Tax is: 10%\")\n",
    "else:  # This will handle input_costprice <= 50000\n",
    "    print(\"Road Tax is: 5%\")\n"
   ]
  },
  {
   "cell_type": "markdown",
   "metadata": {},
   "source": [
    "### **Q3: Accept any city from the user and display monuments of that city**"
   ]
  },
  {
   "cell_type": "code",
   "execution_count": 10,
   "metadata": {},
   "outputs": [
    {
     "name": "stdout",
     "output_type": "stream",
     "text": [
      "Red Fort\n"
     ]
    }
   ],
   "source": [
    "city = str(input(\"Enter City Name  : \"))\n",
    "\n",
    "if city == \"Delhi\":\n",
    "    print(\"Red Fort\")\n",
    "\n",
    "if city == \"Agra\":\n",
    "    print(\"Taj Mahal\")\n",
    "\n",
    "if city == \"Jaipur\":\n",
    "    print(\"Jal Mahal\")"
   ]
  },
  {
   "cell_type": "code",
   "execution_count": null,
   "metadata": {},
   "outputs": [],
   "source": []
  }
 ],
 "metadata": {
  "kernelspec": {
   "display_name": "base",
   "language": "python",
   "name": "python3"
  },
  "language_info": {
   "codemirror_mode": {
    "name": "ipython",
    "version": 3
   },
   "file_extension": ".py",
   "mimetype": "text/x-python",
   "name": "python",
   "nbconvert_exporter": "python",
   "pygments_lexer": "ipython3",
   "version": "3.12.7"
  }
 },
 "nbformat": 4,
 "nbformat_minor": 2
}
