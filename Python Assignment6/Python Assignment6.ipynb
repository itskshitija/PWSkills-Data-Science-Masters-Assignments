{
 "cells": [
  {
   "cell_type": "markdown",
   "metadata": {},
   "source": [
    "# **Python Assignment**"
   ]
  },
  {
   "cell_type": "markdown",
   "metadata": {},
   "source": [
    "### **Q1. Create a function which will take a list as an argument and return the product of all the numbers after creating a flat list.**\n",
    "\n",
    "Use the below-given list as an argument for your function.\n",
    "\n",
    "\n",
    "list1 = [1,2,3,4, [44,55,66, True], False, (34,56,78,89,34), {1,2,3,3,2,1}, {1:34, \"key2\": [55, 67, 78, 89], 4: (45,\n",
    "22, 61, 34)}, [56, 'data science'], 'Machine Learning']\n",
    "\n",
    "\n",
    "Note: you must extract numeric keys and values of the dictionary also."
   ]
  },
  {
   "cell_type": "markdown",
   "metadata": {},
   "source": [
    "Flatten the given nested list (list1) to make all elements accessible at the same level.\n",
    "\n",
    "Extract only the numeric values from the list (including numbers from dictionaries, tuples, and other nested structures).\n",
    "\n",
    "Calculate the product of all these numeric values."
   ]
  },
  {
   "cell_type": "code",
   "execution_count": 2,
   "metadata": {},
   "outputs": [
    {
     "name": "stdout",
     "output_type": "stream",
     "text": [
      "Product of all numeric values: 0\n"
     ]
    }
   ],
   "source": [
    "from functools import reduce\n",
    "\n",
    "def flatten_and_product(lst):\n",
    "    flat_list = []  # To store all numeric values\n",
    "    \n",
    "    # Function to flatten the list and extract numeric values\n",
    "    # Flattening means converting nested lists, tuples, sets, and dictionaries into a single list of items.\n",
    "    def flatten(element):\n",
    "        if isinstance(element, (list, tuple, set)):  # Check for list, tuple, or set\n",
    "            for item in element:\n",
    "                flatten(item)  # Recursively process each item\n",
    "        elif isinstance(element, dict):  # Check for dictionary\n",
    "            for key, value in element.items():\n",
    "                if isinstance(key, (int, float)):  # Add numeric keys\n",
    "                    flat_list.append(key)\n",
    "                flatten(value)  # Process values recursively\n",
    "        elif isinstance(element, (int, float)):  # Check for numeric value\n",
    "            flat_list.append(element)\n",
    "    \n",
    "    # Call the flatten function on the input list\n",
    "    flatten(lst)\n",
    "    \n",
    "    # Calculate the product of all numeric elements\n",
    "    product = reduce(lambda x, y: x * y, flat_list)\n",
    "    return product\n",
    "\n",
    "# Test the function\n",
    "list1 = [\n",
    "    1, 2, 3, 4, [44, 55, 66, True], False, \n",
    "    (34, 56, 78, 89, 34), {1, 2, 3}, \n",
    "    {1: 34, \"key2\": [55, 67, 78], 4: (45, 22, 61)}, \n",
    "    [56, 'data science'], 'Machine Learning'\n",
    "]\n",
    "\n",
    "result = flatten_and_product(list1)\n",
    "print(\"Product of all numeric values:\", result)\n"
   ]
  },
  {
   "cell_type": "markdown",
   "metadata": {},
   "source": [
    "### **Q2. Write a python program for encrypting a message sent to you by your friend. The logic of encryption**\n",
    "\n",
    "should be such that, for a the output should be z. For b, the output should be y. For c, the output should\n",
    "be x respectively. Also, the whitespace should be replaced with a dollar sign. Keep the punctuation\n",
    "marks unchanged.\n",
    "\n",
    "\n",
    "Input Sentence: I want to become a Data Scientist.\n",
    "\n",
    "\n",
    "Encrypt the above input sentence using the program you just created.\n",
    "\n",
    "\n",
    "Note: Convert the given input sentence into lowercase before encrypting. The final output should be\n",
    "lowercase"
   ]
  },
  {
   "cell_type": "code",
   "execution_count": 3,
   "metadata": {},
   "outputs": [
    {
     "name": "stdout",
     "output_type": "stream",
     "text": [
      "Encrypted Sentence: r$dzmg$gl$yvxlnv$z$wzgz$hxrvmgrhg.\n"
     ]
    }
   ],
   "source": [
    "def encrypt_message(message):\n",
    "    # Convert message to lowercase\n",
    "    message = message.lower()\n",
    "    \n",
    "    # Create a mapping of reversed alphabets\n",
    "    reverse_alphabet = {chr(i): chr(122 - (i - 97)) for i in range(97, 123)}  # a-z to z-a\n",
    "    encrypted_message = \"\"\n",
    "    \n",
    "    for char in message:\n",
    "        if char in reverse_alphabet:  # If it's a letter\n",
    "            encrypted_message += reverse_alphabet[char]\n",
    "        elif char == \" \":  # Replace space with $\n",
    "            encrypted_message += \"$\"\n",
    "        else:  # Keep punctuation unchanged\n",
    "            encrypted_message += char\n",
    "    \n",
    "    return encrypted_message\n",
    "\n",
    "# Input sentence\n",
    "input_sentence = \"I want to become a Data Scientist.\"\n",
    "\n",
    "# Encrypt the input sentence\n",
    "encrypted_sentence = encrypt_message(input_sentence)\n",
    "\n",
    "print(\"Encrypted Sentence:\", encrypted_sentence)\n"
   ]
  },
  {
   "cell_type": "code",
   "execution_count": null,
   "metadata": {},
   "outputs": [],
   "source": []
  }
 ],
 "metadata": {
  "kernelspec": {
   "display_name": "base",
   "language": "python",
   "name": "python3"
  },
  "language_info": {
   "codemirror_mode": {
    "name": "ipython",
    "version": 3
   },
   "file_extension": ".py",
   "mimetype": "text/x-python",
   "name": "python",
   "nbconvert_exporter": "python",
   "pygments_lexer": "ipython3",
   "version": "3.12.7"
  }
 },
 "nbformat": 4,
 "nbformat_minor": 2
}
